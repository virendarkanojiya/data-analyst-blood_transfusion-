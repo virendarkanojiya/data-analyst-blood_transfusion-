{
 "cells": [
  {
   "cell_type": "raw",
   "id": "def607f5-91e7-46ff-a2e3-ca0763291545",
   "metadata": {},
   "source": [
    "'''\n",
    "Introduction to Classification Models for Blood Donation Prediction.\n",
    "\n",
    "\n",
    "\n",
    "#the dataframe consist of 748 rows and 5 column\n",
    "# there is no null values present in the table \n",
    "\n",
    "\n",
    "In the realm of predictive analytics, classification models play a pivotal role in determining outcomes based on input data.\n",
    "For the data set pertaining to blood transfusion, which includes variables like recency, frequency, monetary value, and time, we aim to predict\n",
    "whether an individual donated blood in March 2007. Several classification algorithms are suitable for this task, including Logistic Regression,\n",
    "Random Forest, Support Vector Machine (SVM), and Decision Tree. Each of these models has distinct characteristics and advantages,\n",
    "making them valuable tools for data analysts.\n",
    "\n",
    "\n",
    "\n",
    "'''"
   ]
  },
  {
   "cell_type": "code",
   "execution_count": 1,
   "id": "8cd403c2-b4a3-4a91-a3a9-b9dc38eeb7f7",
   "metadata": {},
   "outputs": [
    {
     "data": {
      "text/plain": [
       "'  we need to import the library of python like numpy ,pandas, warnings\\n'"
      ]
     },
     "execution_count": 1,
     "metadata": {},
     "output_type": "execute_result"
    }
   ],
   "source": [
    "'''  we need to import the library of python like numpy ,pandas, warnings\n",
    "'''"
   ]
  },
  {
   "cell_type": "code",
   "execution_count": 2,
   "id": "f0d7132b-fbc6-4ca3-8d49-b3cdc3fff4fd",
   "metadata": {},
   "outputs": [],
   "source": [
    "import numpy as np\n",
    "import pandas as pd\n",
    "import warnings\n",
    "warnings.filterwarnings('ignore')"
   ]
  },
  {
   "cell_type": "code",
   "execution_count": 3,
   "id": "6de8b032-4ee7-45ee-91e0-1b94dd432311",
   "metadata": {},
   "outputs": [
    {
     "data": {
      "text/plain": [
       "' there are 748 rows and 5 columns present in the dataset.'"
      ]
     },
     "execution_count": 3,
     "metadata": {},
     "output_type": "execute_result"
    }
   ],
   "source": [
    "df=pd.read_csv('transfusion.data')\n",
    "df\n",
    "\n",
    "# we can read the dataframe.\n",
    "''' there are 748 rows and 5 columns present in the dataset.'''"
   ]
  },
  {
   "cell_type": "code",
   "execution_count": 4,
   "id": "467f78a6-59ae-4486-95a4-0c73f1b655e5",
   "metadata": {},
   "outputs": [
    {
     "name": "stdout",
     "output_type": "stream",
     "text": [
      "<class 'pandas.core.frame.DataFrame'>\n",
      "RangeIndex: 748 entries, 0 to 747\n",
      "Data columns (total 5 columns):\n",
      " #   Column                                      Non-Null Count  Dtype\n",
      "---  ------                                      --------------  -----\n",
      " 0   Recency (months)                            748 non-null    int64\n",
      " 1   Frequency (times)                           748 non-null    int64\n",
      " 2   Monetary (c.c. blood)                       748 non-null    int64\n",
      " 3   Time (months)                               748 non-null    int64\n",
      " 4   whether he/she donated blood in March 2007  748 non-null    int64\n",
      "dtypes: int64(5)\n",
      "memory usage: 29.3 KB\n"
     ]
    }
   ],
   "source": [
    "''' \n",
    "to see more information about the table we are using info inbuilt function to check the more information about the data  like the datatype\n",
    "and not null values columns and rows the total number of entries\n",
    "'''\n",
    "\n",
    "df.info()"
   ]
  },
  {
   "cell_type": "code",
   "execution_count": 5,
   "id": "808887fd-424d-4d28-98d5-230bbad47ec7",
   "metadata": {},
   "outputs": [
    {
     "data": {
      "text/html": [
       "<div>\n",
       "<style scoped>\n",
       "    .dataframe tbody tr th:only-of-type {\n",
       "        vertical-align: middle;\n",
       "    }\n",
       "\n",
       "    .dataframe tbody tr th {\n",
       "        vertical-align: top;\n",
       "    }\n",
       "\n",
       "    .dataframe thead th {\n",
       "        text-align: right;\n",
       "    }\n",
       "</style>\n",
       "<table border=\"1\" class=\"dataframe\">\n",
       "  <thead>\n",
       "    <tr style=\"text-align: right;\">\n",
       "      <th></th>\n",
       "      <th>Recency (months)</th>\n",
       "      <th>Frequency (times)</th>\n",
       "      <th>Monetary (c.c. blood)</th>\n",
       "      <th>Time (months)</th>\n",
       "      <th>whether he/she donated blood in March 2007</th>\n",
       "    </tr>\n",
       "  </thead>\n",
       "  <tbody>\n",
       "    <tr>\n",
       "      <th>count</th>\n",
       "      <td>748.000000</td>\n",
       "      <td>748.000000</td>\n",
       "      <td>748.000000</td>\n",
       "      <td>748.000000</td>\n",
       "      <td>748.000000</td>\n",
       "    </tr>\n",
       "    <tr>\n",
       "      <th>mean</th>\n",
       "      <td>9.506684</td>\n",
       "      <td>5.514706</td>\n",
       "      <td>1378.676471</td>\n",
       "      <td>34.282086</td>\n",
       "      <td>0.237968</td>\n",
       "    </tr>\n",
       "    <tr>\n",
       "      <th>std</th>\n",
       "      <td>8.095396</td>\n",
       "      <td>5.839307</td>\n",
       "      <td>1459.826781</td>\n",
       "      <td>24.376714</td>\n",
       "      <td>0.426124</td>\n",
       "    </tr>\n",
       "    <tr>\n",
       "      <th>min</th>\n",
       "      <td>0.000000</td>\n",
       "      <td>1.000000</td>\n",
       "      <td>250.000000</td>\n",
       "      <td>2.000000</td>\n",
       "      <td>0.000000</td>\n",
       "    </tr>\n",
       "    <tr>\n",
       "      <th>25%</th>\n",
       "      <td>2.750000</td>\n",
       "      <td>2.000000</td>\n",
       "      <td>500.000000</td>\n",
       "      <td>16.000000</td>\n",
       "      <td>0.000000</td>\n",
       "    </tr>\n",
       "    <tr>\n",
       "      <th>50%</th>\n",
       "      <td>7.000000</td>\n",
       "      <td>4.000000</td>\n",
       "      <td>1000.000000</td>\n",
       "      <td>28.000000</td>\n",
       "      <td>0.000000</td>\n",
       "    </tr>\n",
       "    <tr>\n",
       "      <th>75%</th>\n",
       "      <td>14.000000</td>\n",
       "      <td>7.000000</td>\n",
       "      <td>1750.000000</td>\n",
       "      <td>50.000000</td>\n",
       "      <td>0.000000</td>\n",
       "    </tr>\n",
       "    <tr>\n",
       "      <th>max</th>\n",
       "      <td>74.000000</td>\n",
       "      <td>50.000000</td>\n",
       "      <td>12500.000000</td>\n",
       "      <td>98.000000</td>\n",
       "      <td>1.000000</td>\n",
       "    </tr>\n",
       "  </tbody>\n",
       "</table>\n",
       "</div>"
      ],
      "text/plain": [
       "       Recency (months)  Frequency (times)  Monetary (c.c. blood)  \\\n",
       "count        748.000000         748.000000             748.000000   \n",
       "mean           9.506684           5.514706            1378.676471   \n",
       "std            8.095396           5.839307            1459.826781   \n",
       "min            0.000000           1.000000             250.000000   \n",
       "25%            2.750000           2.000000             500.000000   \n",
       "50%            7.000000           4.000000            1000.000000   \n",
       "75%           14.000000           7.000000            1750.000000   \n",
       "max           74.000000          50.000000           12500.000000   \n",
       "\n",
       "       Time (months)  whether he/she donated blood in March 2007  \n",
       "count     748.000000                                  748.000000  \n",
       "mean       34.282086                                    0.237968  \n",
       "std        24.376714                                    0.426124  \n",
       "min         2.000000                                    0.000000  \n",
       "25%        16.000000                                    0.000000  \n",
       "50%        28.000000                                    0.000000  \n",
       "75%        50.000000                                    0.000000  \n",
       "max        98.000000                                    1.000000  "
      ]
     },
     "execution_count": 5,
     "metadata": {},
     "output_type": "execute_result"
    }
   ],
   "source": [
    "''' to decribe the dataset  we use the inbuilt function  as decribe and get information like count,mean std min,median and mode \n",
    "'''\n",
    "\n",
    "df.describe()"
   ]
  },
  {
   "cell_type": "code",
   "execution_count": 6,
   "id": "3dd334a2-d852-4ec0-8ee6-9712f0ecd473",
   "metadata": {},
   "outputs": [
    {
     "data": {
      "text/plain": [
       "<bound method IndexOpsMixin.value_counts of 0      1\n",
       "1      1\n",
       "2      1\n",
       "3      1\n",
       "4      0\n",
       "      ..\n",
       "743    0\n",
       "744    0\n",
       "745    0\n",
       "746    0\n",
       "747    0\n",
       "Name: whether he/she donated blood in March 2007, Length: 748, dtype: int64>"
      ]
     },
     "execution_count": 6,
     "metadata": {},
     "output_type": "execute_result"
    }
   ],
   "source": [
    "''' \n",
    "to check the value count of the columns we use the inbuilt function value_count \n",
    "'''\n",
    "\n",
    "df['whether he/she donated blood in March 2007'].value_counts"
   ]
  },
  {
   "cell_type": "code",
   "execution_count": 7,
   "id": "5343d698-55a4-4b2e-a114-de086094a7ec",
   "metadata": {},
   "outputs": [],
   "source": [
    "'''\n",
    " for data visualisation we need to use python library like seaborn and matplotlib\n",
    "\n",
    " first we need to import the libraries.\n",
    "'''\n",
    "\n",
    "import matplotlib.pyplot as plt\n",
    "import seaborn as sns"
   ]
  },
  {
   "cell_type": "code",
   "execution_count": 8,
   "id": "a1a0f44d-9563-4ce4-87bf-a2d9714d8d9d",
   "metadata": {},
   "outputs": [
    {
     "data": {
      "text/plain": [
       "Text(0.5, 1.0, 'Histogram of Recency (months)')"
      ]
     },
     "execution_count": 8,
     "metadata": {},
     "output_type": "execute_result"
    },
    {
     "data": {
      "image/png": "[encoded data removed]",
      "text/plain": [
       "<Figure size 1200x500 with 1 Axes>"
      ]
     },
     "metadata": {},
     "output_type": "display_data"
    }
   ],
   "source": [
    "# Histogram of receny coolumn\n",
    "plt.figure(figsize=(12, 5))\n",
    "plt.subplot(1, 2, 1)\n",
    "sns.histplot(df['Recency (months)'], kde=True)\n",
    "plt.title('Histogram of Recency (months)')\n",
    "\n"
   ]
  },
  {
   "cell_type": "code",
   "execution_count": 9,
   "id": "9aaae7f9-a790-4081-95a4-74450c757adf",
   "metadata": {},
   "outputs": [
    {
     "data": {
      "image/png": "[encoded data removed]",
      "text/plain": [
       "<Figure size 640x480 with 1 Axes>"
      ]
     },
     "metadata": {},
     "output_type": "display_data"
    }
   ],
   "source": [
    "\n",
    "# Box Plot of recency\n",
    "plt.subplot(1, 2, 2)\n",
    "sns.boxplot(x=df['Recency (months)'])\n",
    "plt.title('Box Plot of Recency (months)')\n",
    "\n",
    "plt.show()"
   ]
  },
  {
   "cell_type": "code",
   "execution_count": 10,
   "id": "c14bf349-1e2f-47e0-8131-b98591ed8456",
   "metadata": {},
   "outputs": [
    {
     "data": {
      "text/plain": [
       "Text(0.5, 1.0, 'Histogram of Frequency (times)')"
      ]
     },
     "execution_count": 10,
     "metadata": {},
     "output_type": "execute_result"
    },
    {
     "data": {
      "image/png": "[encoded data removed]",
      "text/plain": [
       "<Figure size 1200x500 with 1 Axes>"
      ]
     },
     "metadata": {},
     "output_type": "display_data"
    }
   ],
   "source": [
    "# Histogram of frequency\n",
    "plt.figure(figsize=(12, 5))\n",
    "plt.subplot(1, 2, 1)\n",
    "sns.histplot(df['Frequency (times)'], kde=True)\n",
    "plt.title('Histogram of Frequency (times)')\n"
   ]
  },
  {
   "cell_type": "code",
   "execution_count": 11,
   "id": "e00bbdd5-fd86-49aa-b80a-4973ef7b289a",
   "metadata": {},
   "outputs": [
    {
     "data": {
      "image/png": "[encoded data removed]",
      "text/plain": [
       "<Figure size 640x480 with 1 Axes>"
      ]
     },
     "metadata": {},
     "output_type": "display_data"
    }
   ],
   "source": [
    "# Box Plot  of frequency\n",
    "plt.subplot(1, 2, 2)\n",
    "sns.boxplot(x=df['Frequency (times)'])\n",
    "plt.title('Box Plot of Frequency (times)')\n",
    "\n",
    "plt.show()"
   ]
  },
  {
   "cell_type": "code",
   "execution_count": 12,
   "id": "731d5269-f8e7-42da-99b5-3b675aa3b740",
   "metadata": {},
   "outputs": [
    {
     "data": {
      "text/plain": [
       "Text(0.5, 1.0, 'Histogram of Monetary (c.c. blood)')"
      ]
     },
     "execution_count": 12,
     "metadata": {},
     "output_type": "execute_result"
    },
    {
     "data": {
      "image/png": "[encoded data removed]",
      "text/plain": [
       "<Figure size 1200x500 with 1 Axes>"
      ]
     },
     "metadata": {},
     "output_type": "display_data"
    }
   ],
   "source": [
    "# Histogram of frequency\n",
    "plt.figure(figsize=(12, 5))\n",
    "plt.subplot(1, 2, 1)\n",
    "sns.histplot(df['Monetary (c.c. blood)'], kde=True)\n",
    "plt.title('Histogram of Monetary (c.c. blood)')\n"
   ]
  },
  {
   "cell_type": "code",
   "execution_count": null,
   "id": "1503a0f5-9aaf-456b-930f-a8a837cfd617",
   "metadata": {},
   "outputs": [],
   "source": []
  },
  {
   "cell_type": "code",
   "execution_count": 13,
   "id": "9c025183-aa9e-4906-8429-18a2a88b021e",
   "metadata": {},
   "outputs": [],
   "source": [
    "'''\n",
    "before using the machine learning algorithm we need to  set the target and features point \n",
    "as shown below \n",
    "'''\n",
    "\n",
    "features=df\n",
    "target=df.iloc[:,-1]"
   ]
  },
  {
   "cell_type": "code",
   "execution_count": 14,
   "id": "82f8b0f7-bdf2-4d70-891f-a36a010c47fe",
   "metadata": {},
   "outputs": [],
   "source": [
    "'''\n",
    "firstly we need to import the train test split from sklearn which is the famous python library used for machine algorithm \n",
    "'''\n",
    "from sklearn.model_selection import train_test_split\n",
    "xtrain,xtest,ytrain,ytest=train_test_split(features, target,test_size=0.3,random_state=1)"
   ]
  },
  {
   "cell_type": "code",
   "execution_count": 15,
   "id": "b9624917-9d68-46ae-86b7-3c52ee1cfc6e",
   "metadata": {},
   "outputs": [],
   "source": [
    "'''\n",
    " since our target column is a classification model so we are using  logistic regression model to check the accuracy.\n",
    "\n",
    "'''\n",
    "from sklearn.linear_model import LogisticRegression\n",
    "lr=LogisticRegression()\n",
    "lr.fit(xtrain,ytrain)\n",
    "ypred=lr.predict(xtest)"
   ]
  },
  {
   "cell_type": "code",
   "execution_count": 16,
   "id": "1862a227-5824-4048-be25-8271ae91ffdd",
   "metadata": {},
   "outputs": [
    {
     "name": "stdout",
     "output_type": "stream",
     "text": [
      "Accuracy : 1.0\n",
      "[[165   0]\n",
      " [  0  60]]\n",
      "              precision    recall  f1-score   support\n",
      "\n",
      "           0       1.00      1.00      1.00       165\n",
      "           1       1.00      1.00      1.00        60\n",
      "\n",
      "    accuracy                           1.00       225\n",
      "   macro avg       1.00      1.00      1.00       225\n",
      "weighted avg       1.00      1.00      1.00       225\n",
      "\n"
     ]
    },
    {
     "data": {
      "text/plain": [
       "'\\nafter applying logistic regression we got an accuracy of of 100% \\n'"
      ]
     },
     "execution_count": 16,
     "metadata": {},
     "output_type": "execute_result"
    }
   ],
   "source": [
    "from sklearn.metrics import accuracy_score, confusion_matrix,classification_report\n",
    "ac=accuracy_score(ytest,ypred)\n",
    "cm=confusion_matrix(ytest,ypred)\n",
    "cr=classification_report(ytest,ypred)\n",
    "\n",
    "print(f\"Accuracy : {ac}\\n{cm}\\n{cr}\")\n",
    "\n",
    "'''\n",
    "after applying logistic regression we got an accuracy of of 100% \n",
    "'''"
   ]
  },
  {
   "cell_type": "code",
   "execution_count": 17,
   "id": "08a3d1c1-fa78-4f78-9626-627c2337b80b",
   "metadata": {},
   "outputs": [],
   "source": [
    "'''\n",
    "after applying logistic regression we have applied support vector  classifier to check the accuracy.\n",
    "so we need to import svc from sklern \n",
    "'''\n",
    "\n",
    "from sklearn.svm import SVC\n",
    "svm=SVC()\n",
    "svm.fit(xtrain,ytrain)\n",
    "ypred=svm.predict(xtest)\n"
   ]
  },
  {
   "cell_type": "code",
   "execution_count": 18,
   "id": "19d60586-e2d0-4061-9071-534921a59636",
   "metadata": {},
   "outputs": [
    {
     "name": "stdout",
     "output_type": "stream",
     "text": [
      "Accuracy : 0.7422222222222222\n",
      "[[165   0]\n",
      " [ 58   2]]\n",
      "              precision    recall  f1-score   support\n",
      "\n",
      "           0       0.74      1.00      0.85       165\n",
      "           1       1.00      0.03      0.06        60\n",
      "\n",
      "    accuracy                           0.74       225\n",
      "   macro avg       0.87      0.52      0.46       225\n",
      "weighted avg       0.81      0.74      0.64       225\n",
      "\n"
     ]
    },
    {
     "data": {
      "text/plain": [
       "'\\nwe got an accuracy of 74% which is less as comapared to logistic regression\\n'"
      ]
     },
     "execution_count": 18,
     "metadata": {},
     "output_type": "execute_result"
    }
   ],
   "source": [
    "from sklearn.metrics import accuracy_score,confusion_matrix,classification_report\n",
    "ac=accuracy_score(ytest,ypred)\n",
    "cm=confusion_matrix(ytest,ypred)\n",
    "cr=classification_report(ytest,ypred)\n",
    "\n",
    "print(f\"Accuracy : {ac}\\n{cm}\\n{cr}\")\n",
    "'''\n",
    "we got an accuracy of 74% which is less as comapared to logistic regression\n",
    "'''"
   ]
  },
  {
   "cell_type": "code",
   "execution_count": 19,
   "id": "512ed6d5-116b-4395-8cf4-d3f8f8401138",
   "metadata": {},
   "outputs": [],
   "source": [
    "'''\n",
    "to increase the accuracy we are preprocessing the data using standard scaler\n",
    "'''\n",
    "\n",
    "from sklearn.preprocessing import StandardScaler\n",
    "\n",
    "ss=StandardScaler()\n",
    "xtrain_s =ss.fit_transform(xtrain)\n",
    "xtest_s=ss.transform(xtest)\n",
    " "
   ]
  },
  {
   "cell_type": "code",
   "execution_count": 20,
   "id": "10e30977-8ead-4604-9e39-114c1a1f6cc0",
   "metadata": {},
   "outputs": [],
   "source": [
    "\n",
    "svm=SVC()\n",
    "svm.fit(xtrain_s,ytrain)\n",
    "ypred=svm.predict(xtest_s)\n"
   ]
  },
  {
   "cell_type": "code",
   "execution_count": 21,
   "id": "03651503-f044-41a5-b0d5-ad6566620254",
   "metadata": {},
   "outputs": [
    {
     "name": "stdout",
     "output_type": "stream",
     "text": [
      "Accuracy : 1.0\n",
      "[[165   0]\n",
      " [  0  60]]\n",
      "              precision    recall  f1-score   support\n",
      "\n",
      "           0       1.00      1.00      1.00       165\n",
      "           1       1.00      1.00      1.00        60\n",
      "\n",
      "    accuracy                           1.00       225\n",
      "   macro avg       1.00      1.00      1.00       225\n",
      "weighted avg       1.00      1.00      1.00       225\n",
      "\n"
     ]
    },
    {
     "data": {
      "text/plain": [
       "'\\nafter processing the data and then checking the accuracy we got an accuracy of 100%\\n'"
      ]
     },
     "execution_count": 21,
     "metadata": {},
     "output_type": "execute_result"
    }
   ],
   "source": [
    "from sklearn.metrics import accuracy_score,confusion_matrix,classification_report\n",
    "ac=accuracy_score(ytest,ypred)\n",
    "cm=confusion_matrix(ytest,ypred)\n",
    "cr=classification_report(ytest,ypred)\n",
    "\n",
    "print(f\"Accuracy : {ac}\\n{cm}\\n{cr}\")\n",
    "'''\n",
    "after processing the data and then checking the accuracy we got an accuracy of 100%\n",
    "'''"
   ]
  },
  {
   "cell_type": "code",
   "execution_count": 22,
   "id": "1cff36c4-6d1b-4618-9dc8-d4453e943c10",
   "metadata": {},
   "outputs": [],
   "source": [
    "'''\n",
    "we are using decision tree classifier to check the accuracy.\n",
    "'''\n",
    "from sklearn.tree import DecisionTreeClassifier"
   ]
  },
  {
   "cell_type": "code",
   "execution_count": 23,
   "id": "a3ff633d-ff49-4ce6-a9bc-55f2b42bd5e3",
   "metadata": {},
   "outputs": [],
   "source": [
    "model=DecisionTreeClassifier(criterion=\"entropy\")\n",
    "model.fit(xtrain,ytrain)\n",
    "ypred=model.predict(xtest)"
   ]
  },
  {
   "cell_type": "code",
   "execution_count": 24,
   "id": "df03517d-696b-4657-beed-8d3ebdb4165e",
   "metadata": {},
   "outputs": [
    {
     "name": "stdout",
     "output_type": "stream",
     "text": [
      "Accuracy : 1.0\n",
      "[[165   0]\n",
      " [  0  60]]\n",
      "              precision    recall  f1-score   support\n",
      "\n",
      "           0       1.00      1.00      1.00       165\n",
      "           1       1.00      1.00      1.00        60\n",
      "\n",
      "    accuracy                           1.00       225\n",
      "   macro avg       1.00      1.00      1.00       225\n",
      "weighted avg       1.00      1.00      1.00       225\n",
      "\n"
     ]
    },
    {
     "data": {
      "text/plain": [
       "'\\nwe got an accuracy of 100%\\n'"
      ]
     },
     "execution_count": 24,
     "metadata": {},
     "output_type": "execute_result"
    }
   ],
   "source": [
    "\n",
    "ac=accuracy_score(ytest,ypred)\n",
    "cm=confusion_matrix(ytest,ypred)\n",
    "cr=classification_report(ytest,ypred)\n",
    "\n",
    "print(f\"Accuracy : {ac}\\n{cm}\\n{cr}\")\n",
    "'''\n",
    "we got an accuracy of 100%\n",
    "'''"
   ]
  },
  {
   "cell_type": "code",
   "execution_count": 25,
   "id": "4306857c-e54b-42c2-96a7-53a5af3a2147",
   "metadata": {},
   "outputs": [],
   "source": [
    "'''we are using random forest classifier to check the accuracy\n",
    "'''\n",
    "from sklearn.ensemble import RandomForestClassifier"
   ]
  },
  {
   "cell_type": "code",
   "execution_count": 26,
   "id": "614a9604-7a75-4e33-8ee4-63a03add6da1",
   "metadata": {},
   "outputs": [],
   "source": [
    "model=RandomForestClassifier(criterion=\"entropy\")\n",
    "model.fit(xtrain,ytrain)\n",
    "ypred=model.predict(xtest)"
   ]
  },
  {
   "cell_type": "code",
   "execution_count": 27,
   "id": "b3cce142-4223-4ef1-b921-22fbf4a32504",
   "metadata": {},
   "outputs": [
    {
     "name": "stdout",
     "output_type": "stream",
     "text": [
      "Accuracy : 1.0\n",
      "[[165   0]\n",
      " [  0  60]]\n",
      "              precision    recall  f1-score   support\n",
      "\n",
      "           0       1.00      1.00      1.00       165\n",
      "           1       1.00      1.00      1.00        60\n",
      "\n",
      "    accuracy                           1.00       225\n",
      "   macro avg       1.00      1.00      1.00       225\n",
      "weighted avg       1.00      1.00      1.00       225\n",
      "\n"
     ]
    },
    {
     "data": {
      "text/plain": [
       "'\\nafter applying random forest we got an accuracy of 100%\\n'"
      ]
     },
     "execution_count": 27,
     "metadata": {},
     "output_type": "execute_result"
    }
   ],
   "source": [
    "\n",
    "ac=accuracy_score(ytest,ypred)\n",
    "cm=confusion_matrix(ytest,ypred)\n",
    "cr=classification_report(ytest,ypred)\n",
    "\n",
    "print(f\"Accuracy : {ac}\\n{cm}\\n{cr}\")\n",
    "'''\n",
    "after applying random forest we got an accuracy of 100%\n",
    "'''"
   ]
  },
  {
   "cell_type": "code",
   "execution_count": 28,
   "id": "84c9e930-d1d5-4f53-be3f-1c4773f35059",
   "metadata": {},
   "outputs": [
    {
     "data": {
      "text/plain": [
       "<Axes: xlabel='whether he/she donated blood in March 2007', ylabel='count'>"
      ]
     },
     "execution_count": 28,
     "metadata": {},
     "output_type": "execute_result"
    },
    {
     "data": {
      "image/png": "[encoded data removed]",
      "text/plain": [
       "<Figure size 640x480 with 1 Axes>"
      ]
     },
     "metadata": {},
     "output_type": "display_data"
    }
   ],
   "source": [
    "'''\n",
    "we are plotting an countplot to check whether the person has donated blood or not\n",
    "'''\n",
    "sns.countplot(data=df, x=\"whether he/she donated blood in March 2007\")"
   ]
  },
  {
   "cell_type": "code",
   "execution_count": 29,
   "id": "4e28f4ea-6ed5-44f6-8393-320101b7906c",
   "metadata": {},
   "outputs": [
    {
     "data": {
      "text/plain": [
       "<Axes: xlabel='Recency (months)', ylabel='Count'>"
      ]
     },
     "execution_count": 29,
     "metadata": {},
     "output_type": "execute_result"
    },
    {
     "data": {
      "image/png": "[encoded data removed]",
      "text/plain": [
       "<Figure size 640x480 with 1 Axes>"
      ]
     },
     "metadata": {},
     "output_type": "display_data"
    }
   ],
   "source": [
    "sns.histplot(data=df[\"Recency (months)\"],color=\"orange\")"
   ]
  }
 ],
 "metadata": {
  "kernelspec": {
   "display_name": "Python 3 (ipykernel)",
   "language": "python",
   "name": "python3"
  },
  "language_info": {
   "codemirror_mode": {
    "name": "ipython",
    "version": 3
   },
   "file_extension": ".py",
   "mimetype": "text/x-python",
   "name": "python",
   "nbconvert_exporter": "python",
   "pygments_lexer": "ipython3",
   "version": "3.11.7"
  }
 },
 "nbformat": 4,
 "nbformat_minor": 5
}
